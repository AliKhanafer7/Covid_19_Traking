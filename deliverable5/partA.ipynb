{
 "cells": [
  {
   "cell_type": "markdown",
   "id": "adjacent-signature",
   "metadata": {},
   "source": [
    "# Group_29 Project Phase 4"
   ]
  },
  {
   "cell_type": "markdown",
   "id": "awful-reunion",
   "metadata": {},
   "source": [
    "## Overview"
   ]
  },
  {
   "cell_type": "markdown",
   "id": "operational-network",
   "metadata": {},
   "source": [
    "For the fourth and final phase of our CSI4142 project, we'll be performing some data mining in order to turn our raw data into useful information. As a first step, it's crucial that we identify what exactly it is we wish to predict. In our case, we'll be looking at the `age group of a patient who's tested positive for COVID-19`. As a result, the features we think will best train our model are:\n",
    "\n",
    "1. Outbreak Related\n",
    "2. Keyword1\n",
    "3. Grocery and Pharmacy\n",
    "4. Parks\n",
    "5. Total Resolved\n",
    "6. Total Unresolved\n",
    "7. Total Fatal"
   ]
  },
  {
   "cell_type": "markdown",
   "id": "following-secretariat",
   "metadata": {},
   "source": [
    "## Connecting to DB"
   ]
  },
  {
   "cell_type": "markdown",
   "id": "powered-honor",
   "metadata": {},
   "source": [
    "In this first part, we'll be connecting to our database and fetching our labels and features"
   ]
  },
  {
   "cell_type": "code",
   "execution_count": 54,
   "id": "bacterial-highway",
   "metadata": {},
   "outputs": [],
   "source": [
    "import sys\n",
    "sys.path.insert(1, '../lib/python3.9/site-packages')\n",
    "from configparser import ConfigParser\n",
    "import psycopg2\n",
    "import numpy as np\n",
    "import pandas as pd\n",
    "import matplotlib as mp\n",
    "from sklearn.model_selection import train_test_split\n",
    "from sklearn.tree import DecisionTreeClassifier\n",
    "from sklearn.svm import LinearSVC\n",
    "from sklearn.metrics import recall_score, precision_score\n",
    "#Can be very helpful to notice any imbalance in classes\n",
    "from collections import Counter "
   ]
  },
  {
   "cell_type": "markdown",
   "id": "identified-russell",
   "metadata": {},
   "source": [
    "Now i can try to connect to my PSQL server"
   ]
  },
  {
   "cell_type": "code",
   "execution_count": 55,
   "id": "signed-luxembourg",
   "metadata": {},
   "outputs": [],
   "source": [
    "def config(filename='database.ini', section='postgresql'):\n",
    "    parser = ConfigParser()\n",
    "    # read config file\n",
    "    parser.read(filename) \n",
    " \n",
    "    # get section, default to postgresql\n",
    "    db = {}\n",
    "    if parser.has_section(section):\n",
    "        params = parser.items(section)\n",
    "        for param in params:\n",
    "            db[param[0]] = param[1]\n",
    "    else:\n",
    "        raise Exception('Section {0} not found in the {1} file'.format(section, filename))\n",
    " \n",
    "    return db"
   ]
  },
  {
   "cell_type": "markdown",
   "id": "whole-garbage",
   "metadata": {},
   "source": [
    "Get the configuration file as a python dictionary"
   ]
  },
  {
   "cell_type": "code",
   "execution_count": 56,
   "id": "opened-hindu",
   "metadata": {},
   "outputs": [],
   "source": [
    "cfg = config()"
   ]
  },
  {
   "cell_type": "markdown",
   "id": "hawaiian-glossary",
   "metadata": {},
   "source": [
    "Establish the connection and create a cursor to the database"
   ]
  },
  {
   "cell_type": "code",
   "execution_count": 57,
   "id": "boolean-bunch",
   "metadata": {},
   "outputs": [
    {
     "name": "stdout",
     "output_type": "stream",
     "text": [
      "Attempting to connect to the database\n",
      "Connection Successful\n"
     ]
    }
   ],
   "source": [
    "try:\n",
    "    print(\"Attempting to connect to the database\")\n",
    "    conn = psycopg2.connect(**cfg)\n",
    "    cursor = conn.cursor()\n",
    "    print(\"Connection Successful\")\n",
    "    \n",
    "except (Exception, psycopg2.DatabaseError) as error:\n",
    "    print(error)"
   ]
  },
  {
   "cell_type": "markdown",
   "id": "surface-gathering",
   "metadata": {},
   "source": [
    "We'll now attempt to get our data"
   ]
  },
  {
   "cell_type": "code",
   "execution_count": 58,
   "id": "finished-verification",
   "metadata": {},
   "outputs": [],
   "source": [
    "try:\n",
    "    #Lets get our data \n",
    "    cursor.execute('''\n",
    "                    select p.outbreak_related, p.age_group, s.keyword1, m.grocery_and_pharmarcy, m.parks,\n",
    "                    f.total_resolved, f.total_unresolved, f.total_fatal\n",
    "                    from  covid_19_tracking_fact_table f,\n",
    "                    patient_dimension p, special_measures_dimension s, mobility_dimension m\n",
    "                    where f.patient_key =p.patient_key and f.special_measures_key = s.special_measures_key\n",
    "                    and f.mobility_key = m.mobility_key\n",
    "                    group by (p.outbreak_related,  p.age_group, s.keyword1, m.grocery_and_pharmarcy, m.parks,\n",
    "                    f.total_resolved, f.total_unresolved, f.total_fatal)''')\n",
    "\n",
    "\n",
    "\n",
    "    #Get the complete result set. It will be a list of tuples where each tuple is a row from the result set\n",
    "    result_list = cursor.fetchall()\n",
    "        \n",
    "except (Exception, psycopg2.DatabaseError) as error:\n",
    "    print(error)\n",
    "    print(\"Rolling back...\")\n",
    "    conn.rollback()\n",
    "    print(\"Rolled back successfully\")"
   ]
  },
  {
   "cell_type": "code",
   "execution_count": 59,
   "id": "variable-barrier",
   "metadata": {},
   "outputs": [],
   "source": [
    "#Ensure to run this cell at the end of all your experiments to close all connections\n",
    "cursor.close()\n",
    "conn.close()"
   ]
  },
  {
   "cell_type": "code",
   "execution_count": 61,
   "id": "indian-vintage",
   "metadata": {},
   "outputs": [],
   "source": [
    "result_df = pd.DataFrame(result_list, columns=[\"outbreak_related\",\"age_group\",\"lockdown_type\", \"grocery_and_pharmacy\",\n",
    "                                               \"parks\",\"total_resolved\", \"total_unresolved\",\"total_fatal\"])"
   ]
  },
  {
   "cell_type": "code",
   "execution_count": 62,
   "id": "lasting-cause",
   "metadata": {},
   "outputs": [
    {
     "data": {
      "text/html": [
       "<div>\n",
       "<style scoped>\n",
       "    .dataframe tbody tr th:only-of-type {\n",
       "        vertical-align: middle;\n",
       "    }\n",
       "\n",
       "    .dataframe tbody tr th {\n",
       "        vertical-align: top;\n",
       "    }\n",
       "\n",
       "    .dataframe thead th {\n",
       "        text-align: right;\n",
       "    }\n",
       "</style>\n",
       "<table border=\"1\" class=\"dataframe\">\n",
       "  <thead>\n",
       "    <tr style=\"text-align: right;\">\n",
       "      <th></th>\n",
       "      <th>outbreak_related</th>\n",
       "      <th>age_group</th>\n",
       "      <th>lockdown_type</th>\n",
       "      <th>grocery_and_pharmacy</th>\n",
       "      <th>parks</th>\n",
       "      <th>total_resolved</th>\n",
       "      <th>total_unresolved</th>\n",
       "      <th>total_fatal</th>\n",
       "    </tr>\n",
       "  </thead>\n",
       "  <tbody>\n",
       "    <tr>\n",
       "      <th>0</th>\n",
       "      <td>False</td>\n",
       "      <td>20s</td>\n",
       "      <td>Grey-Lockdown</td>\n",
       "      <td>-83</td>\n",
       "      <td>-49</td>\n",
       "      <td>1</td>\n",
       "      <td>0</td>\n",
       "      <td>0</td>\n",
       "    </tr>\n",
       "    <tr>\n",
       "      <th>1</th>\n",
       "      <td>False</td>\n",
       "      <td>20s</td>\n",
       "      <td>Grey-Lockdown</td>\n",
       "      <td>-83</td>\n",
       "      <td>-49</td>\n",
       "      <td>2</td>\n",
       "      <td>0</td>\n",
       "      <td>0</td>\n",
       "    </tr>\n",
       "    <tr>\n",
       "      <th>2</th>\n",
       "      <td>False</td>\n",
       "      <td>20s</td>\n",
       "      <td>Grey-Lockdown</td>\n",
       "      <td>-79</td>\n",
       "      <td>-44</td>\n",
       "      <td>1</td>\n",
       "      <td>0</td>\n",
       "      <td>0</td>\n",
       "    </tr>\n",
       "    <tr>\n",
       "      <th>3</th>\n",
       "      <td>False</td>\n",
       "      <td>20s</td>\n",
       "      <td>Grey-Lockdown</td>\n",
       "      <td>-79</td>\n",
       "      <td>-44</td>\n",
       "      <td>2</td>\n",
       "      <td>0</td>\n",
       "      <td>0</td>\n",
       "    </tr>\n",
       "    <tr>\n",
       "      <th>4</th>\n",
       "      <td>False</td>\n",
       "      <td>20s</td>\n",
       "      <td>Grey-Lockdown</td>\n",
       "      <td>-79</td>\n",
       "      <td>-44</td>\n",
       "      <td>3</td>\n",
       "      <td>0</td>\n",
       "      <td>0</td>\n",
       "    </tr>\n",
       "  </tbody>\n",
       "</table>\n",
       "</div>"
      ],
      "text/plain": [
       "   outbreak_related age_group  lockdown_type  grocery_and_pharmacy  parks  \\\n",
       "0             False       20s  Grey-Lockdown                   -83    -49   \n",
       "1             False       20s  Grey-Lockdown                   -83    -49   \n",
       "2             False       20s  Grey-Lockdown                   -79    -44   \n",
       "3             False       20s  Grey-Lockdown                   -79    -44   \n",
       "4             False       20s  Grey-Lockdown                   -79    -44   \n",
       "\n",
       "   total_resolved  total_unresolved  total_fatal  \n",
       "0               1                 0            0  \n",
       "1               2                 0            0  \n",
       "2               1                 0            0  \n",
       "3               2                 0            0  \n",
       "4               3                 0            0  "
      ]
     },
     "execution_count": 62,
     "metadata": {},
     "output_type": "execute_result"
    }
   ],
   "source": [
    "result_df.head()"
   ]
  },
  {
   "cell_type": "markdown",
   "id": "phantom-original",
   "metadata": {},
   "source": [
    "## Data Summarization"
   ]
  },
  {
   "cell_type": "markdown",
   "id": "subject-diagnosis",
   "metadata": {},
   "source": [
    "We will now use some summarization techniques to get a better understanding of our data. First and foremost we want to see if there's an imbalance in our classes"
   ]
  },
  {
   "cell_type": "code",
   "execution_count": 63,
   "id": "monthly-council",
   "metadata": {},
   "outputs": [
    {
     "data": {
      "text/plain": [
       "Counter({'20s': 3266,\n",
       "         '30s': 2847,\n",
       "         '40s': 2818,\n",
       "         '50s': 2891,\n",
       "         '60s': 2362,\n",
       "         '70s': 1835,\n",
       "         '80s': 1894,\n",
       "         '90+': 1311,\n",
       "         '<20': 3111})"
      ]
     },
     "execution_count": 63,
     "metadata": {},
     "output_type": "execute_result"
    }
   ],
   "source": [
    "Counter(result_df['age_group'])"
   ]
  },
  {
   "cell_type": "markdown",
   "id": "dutch-chrome",
   "metadata": {},
   "source": [
    "We notice that there isn't too large of an imbalance between the classes. If we wind up noticing that our results aren't accurate enough, we can consider undersampling, but for now, we believe that this won't be needed"
   ]
  },
  {
   "cell_type": "markdown",
   "id": "verified-conservative",
   "metadata": {},
   "source": [
    "Next, we wanna see if there's any correlation between parks, grocery and pharmacy"
   ]
  },
  {
   "cell_type": "code",
   "execution_count": 64,
   "id": "corresponding-custom",
   "metadata": {},
   "outputs": [
    {
     "data": {
      "text/plain": [
       "<AxesSubplot:xlabel='parks', ylabel='grocery_and_pharmacy'>"
      ]
     },
     "execution_count": 64,
     "metadata": {},
     "output_type": "execute_result"
    },
    {
     "data": {
      "image/png": "[encoded data removed]",
      "text/plain": [
       "<Figure size 720x720 with 1 Axes>"
      ]
     },
     "metadata": {
      "needs_background": "light"
     },
     "output_type": "display_data"
    }
   ],
   "source": [
    "result_df.plot.scatter(x='parks',y='grocery_and_pharmacy',figsize=(10,10))"
   ]
  },
  {
   "cell_type": "markdown",
   "id": "structural-empty",
   "metadata": {},
   "source": [
    "As expected, the correlation isn't too strong"
   ]
  },
  {
   "cell_type": "markdown",
   "id": "continuing-sydney",
   "metadata": {},
   "source": [
    "The last thing we wanna do is check some of the tendencies of our data. Namely, the standard deviation and mean. These values will help give us an understanding of what our data looks like"
   ]
  },
  {
   "cell_type": "code",
   "execution_count": 65,
   "id": "blocked-savannah",
   "metadata": {},
   "outputs": [
    {
     "data": {
      "text/plain": [
       "outbreak_related        0.351377\n",
       "grocery_and_pharmacy   -9.090934\n",
       "parks                   5.773987\n",
       "total_resolved          1.852921\n",
       "total_unresolved        0.003313\n",
       "total_fatal             0.078576\n",
       "dtype: float64"
      ]
     },
     "execution_count": 65,
     "metadata": {},
     "output_type": "execute_result"
    }
   ],
   "source": [
    "result_df.mean()"
   ]
  },
  {
   "cell_type": "code",
   "execution_count": 66,
   "id": "incorrect-times",
   "metadata": {},
   "outputs": [
    {
     "data": {
      "text/plain": [
       "outbreak_related         0.477411\n",
       "grocery_and_pharmacy    18.026028\n",
       "parks                   43.138882\n",
       "total_resolved           1.588666\n",
       "total_unresolved         0.058240\n",
       "total_fatal              0.295112\n",
       "dtype: float64"
      ]
     },
     "execution_count": 66,
     "metadata": {},
     "output_type": "execute_result"
    }
   ],
   "source": [
    "result_df.std()"
   ]
  },
  {
   "cell_type": "markdown",
   "id": "martial-relations",
   "metadata": {},
   "source": [
    "## Data Transformation notes"
   ]
  },
  {
   "cell_type": "markdown",
   "id": "timely-heating",
   "metadata": {},
   "source": [
    "1. Since we wish to predict a patient's age group, using totals won't be of much help. Actually, it'll make things much more difficult for us. As a result, we'll need to update our dataframe to go from totals, to individual outcomes. To do so, we'll just need to go row-by-row and, for the outcome where the total is greater than 0, we replace it with 1. We'll also need to change the column names from `total_fatal`, `total_resolved` and `total_unresolved` to just `fatal`,`resolved` and `unresovled`, respectively.\n",
    "\n",
    "2. When we were working on our phase 2 of the project, we made it a goal of ours to find any missing values in any of the datasets. As a result, our datamart is already populated in a way where no values are missing. Here's how we dealt with missing values:\n",
    "    1. The weather data had some rows where the value 'E' was placed for all columns, indicating that the weather was not gathered for that day. Since in the four months that we were analysing, only one day had missing values, we decided to simply remove that entry.\n",
    "    2. For the patients data, there were missing values for the outbreak related column. It was found to be only `yes` or it was blank. For these, it was assumed that if it was not related to an outbreak, that we would assign `no` instead of blank.\n",
    "    3. Some special measures had missing end dates. For these, we assumed that the end date was 28 days after the start date\n",
    "\n",
    "3. Our data includes one categorical attribute, namely `gender`. Since the cardenality of `gender` is not too large (three in this case) we'll be using one-hot encoding to deal with it.\n",
    "4. Since there's a meaningful ranking to the `lockdown_type` features, we're going to treat it as an ordinal attribute. As such, we'll be replacing its values by numbers and then normalize. (** review **)\n",
    "5. Based on our current understanding of the data, there isn't a clear imbalance between the classes. For now, we won't be performing any under-sampling. If, while training our model, we aren't happy with our results, we can consider under-sampling some of the classes that appear to have larger values than the others.\n",
    "6. Finally, a word on our feature selection. We wanted to choose features that would best describe a person's age group. For example, we feel like parks, grocery and pharmacy represents a wide spectrum of places visited by different age groups, and so we chose it as a feature. Similarly, an outbreak could have different impacts on different age groups, and so it was also included. As for the outcome, we noticed from the last deliverable that there's a difference in outcome based on a person's age group, and so we think it'll help our model. These features are not set in stone, and we could revisit them after we complete part B to see if we can add/remove some features to improve our results. As of the first iteration the features we're using are:\n",
    "    1. Outbreak Related\n",
    "    3. Keyword1\n",
    "    4. Grocery and Pharmacy\n",
    "    5. Parks\n",
    "    6. Total Resolved\n",
    "    7. Total Unresolved\n",
    "    8. Total Fatal"
   ]
  }
 ],
 "metadata": {
  "kernelspec": {
   "display_name": "Python 3",
   "language": "python",
   "name": "python3"
  },
  "language_info": {
   "codemirror_mode": {
    "name": "ipython",
    "version": 3
   },
   "file_extension": ".py",
   "mimetype": "text/x-python",
   "name": "python",
   "nbconvert_exporter": "python",
   "pygments_lexer": "ipython3",
   "version": "3.9.2"
  }
 },
 "nbformat": 4,
 "nbformat_minor": 5
}
