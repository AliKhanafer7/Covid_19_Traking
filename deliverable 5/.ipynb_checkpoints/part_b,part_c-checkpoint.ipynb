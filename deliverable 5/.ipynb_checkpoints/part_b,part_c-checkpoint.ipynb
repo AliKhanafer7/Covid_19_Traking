{
 "cells": [
  {
   "cell_type": "markdown",
   "metadata": {},
   "source": [
    "## Group_29 Project Phase 4"
   ]
  },
  {
   "cell_type": "markdown",
   "metadata": {},
   "source": [
    "### Part B. Classification (Supervised Learning)"
   ]
  },
  {
   "cell_type": "markdown",
   "metadata": {},
   "source": [
    "#### onnecting to DB"
   ]
  },
  {
   "cell_type": "markdown",
   "metadata": {},
   "source": [
    "In this first part, we'll be connecting to our database and fetching our labels and features"
   ]
  },
  {
   "cell_type": "code",
   "execution_count": 1,
   "metadata": {},
   "outputs": [],
   "source": [
    "import sys\n",
    "sys.path.insert(1, '../lib/python3.9/site-packages')\n",
    "from configparser import ConfigParser\n",
    "import psycopg2\n",
    "import numpy as np\n",
    "import pandas as pd\n",
    "import matplotlib as mp\n",
    "from sklearn.model_selection import train_test_split\n",
    "from sklearn.tree import DecisionTreeClassifier\n",
    "from sklearn.svm import LinearSVC\n",
    "from sklearn.metrics import recall_score, precision_score\n",
    "#Can be very helpful to notice any imbalance in classes\n",
    "from collections import Counter \n",
    "from sklearn.metrics import precision_recall_fscore_support as score\n",
    "from sklearn.model_selection import train_test_split\n",
    "from sklearn.metrics import classification_report, confusion_matrix\n",
    "from sklearn.ensemble import GradientBoostingClassifier\n",
    "from sklearn.ensemble import RandomForestClassifier\n",
    "import time\n",
    "from sklearn.svm import SVC\n",
    "from sklearn.neighbors import LocalOutlierFactor\n",
    "from sklearn.cluster import DBSCAN\n",
    "import matplotlib.pyplot as plt\n",
    "import seaborn as sns"
   ]
  },
  {
   "cell_type": "markdown",
   "metadata": {},
   "source": [
    "connect to PSQL server"
   ]
  },
  {
   "cell_type": "code",
   "execution_count": 2,
   "metadata": {},
   "outputs": [],
   "source": [
    "def config(filename='../database.ini', section='postgresql'):\n",
    "    parser = ConfigParser()\n",
    "    # read config file\n",
    "    parser.read(filename) \n",
    " \n",
    "    # get section, default to postgresql\n",
    "    db = {}\n",
    "    if parser.has_section(section):\n",
    "        params = parser.items(section)\n",
    "        for param in params:\n",
    "            db[param[0]] = param[1]\n",
    "    else:\n",
    "        raise Exception('Section {0} not found in the {1} file'.format(section, filename))\n",
    " \n",
    "    return db"
   ]
  },
  {
   "cell_type": "markdown",
   "metadata": {},
   "source": [
    "Get the configuration file as a python dictionary"
   ]
  },
  {
   "cell_type": "code",
   "execution_count": 3,
   "metadata": {},
   "outputs": [],
   "source": [
    "cfg = config()"
   ]
  },
  {
   "cell_type": "markdown",
   "metadata": {},
   "source": [
    "Establish the connection and create a cursor to the database"
   ]
  },
  {
   "cell_type": "code",
   "execution_count": 4,
   "metadata": {},
   "outputs": [
    {
     "name": "stdout",
     "output_type": "stream",
     "text": [
      "Attempting to connect to the database\n",
      "Connection Successful\n"
     ]
    }
   ],
   "source": [
    "try:\n",
    "    print(\"Attempting to connect to the database\")\n",
    "    conn = psycopg2.connect(**cfg)\n",
    "    cursor = conn.cursor()\n",
    "    print(\"Connection Successful\")\n",
    "    \n",
    "except (Exception, psycopg2.DatabaseError) as error:\n",
    "    print(error)"
   ]
  },
  {
   "cell_type": "markdown",
   "metadata": {},
   "source": [
    "We'll now attempt to get our data"
   ]
  },
  {
   "cell_type": "code",
   "execution_count": 5,
   "metadata": {},
   "outputs": [],
   "source": [
    "try:\n",
    "    #Lets get our data \n",
    "    cursor.execute('''\n",
    "                    select p.outbreak_related, p.age_group, s.special_measures_key, m.grocery_and_pharmarcy, m.parks,\n",
    "                    f.total_resolved, f.total_unresolved, f.total_fatal\n",
    "                    from  covid_19_tracking_fact_table f,\n",
    "                    patient_dimension p, special_measures_dimension s, mobility_dimension m\n",
    "                    where f.patient_key =p.patient_key and f.special_measures_key = s.special_measures_key\n",
    "                    and f.mobility_key = m.mobility_key\n",
    "                    group by (p.outbreak_related,  p.age_group, s.special_measures_key, m.grocery_and_pharmarcy, m.parks,\n",
    "                    f.total_resolved, f.total_unresolved, f.total_fatal)''')\n",
    "\n",
    "\n",
    "\n",
    "    #Get the complete result set. It will be a list of tuples where each tuple is a row from the result set\n",
    "    result_list = cursor.fetchall()\n",
    "        \n",
    "except (Exception, psycopg2.DatabaseError) as error:\n",
    "    print(error)\n",
    "    print(\"Rolling back...\")\n",
    "    conn.rollback()\n",
    "    print(\"Rolled back successfully\")"
   ]
  },
  {
   "cell_type": "code",
   "execution_count": 6,
   "metadata": {},
   "outputs": [],
   "source": [
    "#Ensure to run this cell at the end of all your experiments to close all connections\n",
    "cursor.close()\n",
    "conn.close()"
   ]
  },
  {
   "cell_type": "code",
   "execution_count": 7,
   "metadata": {},
   "outputs": [],
   "source": [
    "df = pd.DataFrame(result_list, columns=[\"outbreak_related\",\"age_group\",\"lockdown_type\", \"grocery_and_pharmacy\",\n",
    "                                               \"parks\",\"total_resolved\", \"total_unresolved\",\"total_fatal\"])"
   ]
  },
  {
   "cell_type": "code",
   "execution_count": 8,
   "metadata": {},
   "outputs": [
    {
     "data": {
      "text/html": [
       "<div>\n",
       "<style scoped>\n",
       "    .dataframe tbody tr th:only-of-type {\n",
       "        vertical-align: middle;\n",
       "    }\n",
       "\n",
       "    .dataframe tbody tr th {\n",
       "        vertical-align: top;\n",
       "    }\n",
       "\n",
       "    .dataframe thead th {\n",
       "        text-align: right;\n",
       "    }\n",
       "</style>\n",
       "<table border=\"1\" class=\"dataframe\">\n",
       "  <thead>\n",
       "    <tr style=\"text-align: right;\">\n",
       "      <th></th>\n",
       "      <th>outbreak_related</th>\n",
       "      <th>age_group</th>\n",
       "      <th>lockdown_type</th>\n",
       "      <th>grocery_and_pharmacy</th>\n",
       "      <th>parks</th>\n",
       "      <th>total_resolved</th>\n",
       "      <th>total_unresolved</th>\n",
       "      <th>total_fatal</th>\n",
       "    </tr>\n",
       "  </thead>\n",
       "  <tbody>\n",
       "    <tr>\n",
       "      <th>0</th>\n",
       "      <td>False</td>\n",
       "      <td>20s</td>\n",
       "      <td>1</td>\n",
       "      <td>-15</td>\n",
       "      <td>-36</td>\n",
       "      <td>1</td>\n",
       "      <td>0</td>\n",
       "      <td>0</td>\n",
       "    </tr>\n",
       "    <tr>\n",
       "      <th>1</th>\n",
       "      <td>False</td>\n",
       "      <td>20s</td>\n",
       "      <td>1</td>\n",
       "      <td>-15</td>\n",
       "      <td>-36</td>\n",
       "      <td>2</td>\n",
       "      <td>0</td>\n",
       "      <td>0</td>\n",
       "    </tr>\n",
       "    <tr>\n",
       "      <th>2</th>\n",
       "      <td>False</td>\n",
       "      <td>20s</td>\n",
       "      <td>1</td>\n",
       "      <td>-14</td>\n",
       "      <td>-18</td>\n",
       "      <td>1</td>\n",
       "      <td>0</td>\n",
       "      <td>0</td>\n",
       "    </tr>\n",
       "    <tr>\n",
       "      <th>3</th>\n",
       "      <td>False</td>\n",
       "      <td>20s</td>\n",
       "      <td>1</td>\n",
       "      <td>-14</td>\n",
       "      <td>-18</td>\n",
       "      <td>2</td>\n",
       "      <td>0</td>\n",
       "      <td>0</td>\n",
       "    </tr>\n",
       "    <tr>\n",
       "      <th>4</th>\n",
       "      <td>False</td>\n",
       "      <td>20s</td>\n",
       "      <td>1</td>\n",
       "      <td>-13</td>\n",
       "      <td>-31</td>\n",
       "      <td>1</td>\n",
       "      <td>0</td>\n",
       "      <td>0</td>\n",
       "    </tr>\n",
       "  </tbody>\n",
       "</table>\n",
       "</div>"
      ],
      "text/plain": [
       "   outbreak_related age_group  lockdown_type  grocery_and_pharmacy  parks  \\\n",
       "0             False       20s              1                   -15    -36   \n",
       "1             False       20s              1                   -15    -36   \n",
       "2             False       20s              1                   -14    -18   \n",
       "3             False       20s              1                   -14    -18   \n",
       "4             False       20s              1                   -13    -31   \n",
       "\n",
       "   total_resolved  total_unresolved  total_fatal  \n",
       "0               1                 0            0  \n",
       "1               2                 0            0  \n",
       "2               1                 0            0  \n",
       "3               2                 0            0  \n",
       "4               1                 0            0  "
      ]
     },
     "execution_count": 8,
     "metadata": {},
     "output_type": "execute_result"
    }
   ],
   "source": [
    "df.head()"
   ]
  },
  {
   "cell_type": "markdown",
   "metadata": {},
   "source": [
    "#### preprocess the dataset"
   ]
  },
  {
   "cell_type": "code",
   "execution_count": 9,
   "metadata": {},
   "outputs": [],
   "source": [
    "def outbreak(x):\n",
    "    if x == True:\n",
    "        return 1\n",
    "    else:\n",
    "        return 0"
   ]
  },
  {
   "cell_type": "code",
   "execution_count": 10,
   "metadata": {},
   "outputs": [],
   "source": [
    "df['outbreak_related'] = df['outbreak_related'].apply(outbreak)"
   ]
  },
  {
   "cell_type": "markdown",
   "metadata": {},
   "source": [
    "##### set up label"
   ]
  },
  {
   "cell_type": "code",
   "execution_count": 11,
   "metadata": {},
   "outputs": [],
   "source": [
    "def age_group(x):\n",
    "    if x == '<20':\n",
    "        return 0\n",
    "    elif x == '20s':\n",
    "        return 1\n",
    "    elif x == '30s':\n",
    "        return 2\n",
    "    elif x == '40s':\n",
    "        return 3\n",
    "    elif x == '50s':\n",
    "        return 4\n",
    "    elif x == '60s':\n",
    "        return 5\n",
    "    elif x == '70s':\n",
    "        return 6\n",
    "    elif x == '80s':\n",
    "        return 7\n",
    "    else:\n",
    "        return 8"
   ]
  },
  {
   "cell_type": "code",
   "execution_count": 12,
   "metadata": {},
   "outputs": [],
   "source": [
    "df['label'] = df['age_group'].apply(age_group)"
   ]
  },
  {
   "cell_type": "code",
   "execution_count": 13,
   "metadata": {},
   "outputs": [],
   "source": [
    "label = pd.DataFrame()\n",
    "label = df[['label']]"
   ]
  },
  {
   "cell_type": "code",
   "execution_count": 14,
   "metadata": {},
   "outputs": [],
   "source": [
    "df.drop(['age_group'],axis=1,inplace = True)"
   ]
  },
  {
   "cell_type": "code",
   "execution_count": 15,
   "metadata": {},
   "outputs": [
    {
     "data": {
      "text/html": [
       "<div>\n",
       "<style scoped>\n",
       "    .dataframe tbody tr th:only-of-type {\n",
       "        vertical-align: middle;\n",
       "    }\n",
       "\n",
       "    .dataframe tbody tr th {\n",
       "        vertical-align: top;\n",
       "    }\n",
       "\n",
       "    .dataframe thead th {\n",
       "        text-align: right;\n",
       "    }\n",
       "</style>\n",
       "<table border=\"1\" class=\"dataframe\">\n",
       "  <thead>\n",
       "    <tr style=\"text-align: right;\">\n",
       "      <th></th>\n",
       "      <th>outbreak_related</th>\n",
       "      <th>lockdown_type</th>\n",
       "      <th>grocery_and_pharmacy</th>\n",
       "      <th>parks</th>\n",
       "      <th>total_resolved</th>\n",
       "      <th>total_unresolved</th>\n",
       "      <th>total_fatal</th>\n",
       "      <th>label</th>\n",
       "    </tr>\n",
       "  </thead>\n",
       "  <tbody>\n",
       "    <tr>\n",
       "      <th>0</th>\n",
       "      <td>0</td>\n",
       "      <td>1</td>\n",
       "      <td>-15</td>\n",
       "      <td>-36</td>\n",
       "      <td>1</td>\n",
       "      <td>0</td>\n",
       "      <td>0</td>\n",
       "      <td>1</td>\n",
       "    </tr>\n",
       "    <tr>\n",
       "      <th>1</th>\n",
       "      <td>0</td>\n",
       "      <td>1</td>\n",
       "      <td>-15</td>\n",
       "      <td>-36</td>\n",
       "      <td>2</td>\n",
       "      <td>0</td>\n",
       "      <td>0</td>\n",
       "      <td>1</td>\n",
       "    </tr>\n",
       "    <tr>\n",
       "      <th>2</th>\n",
       "      <td>0</td>\n",
       "      <td>1</td>\n",
       "      <td>-14</td>\n",
       "      <td>-18</td>\n",
       "      <td>1</td>\n",
       "      <td>0</td>\n",
       "      <td>0</td>\n",
       "      <td>1</td>\n",
       "    </tr>\n",
       "    <tr>\n",
       "      <th>3</th>\n",
       "      <td>0</td>\n",
       "      <td>1</td>\n",
       "      <td>-14</td>\n",
       "      <td>-18</td>\n",
       "      <td>2</td>\n",
       "      <td>0</td>\n",
       "      <td>0</td>\n",
       "      <td>1</td>\n",
       "    </tr>\n",
       "    <tr>\n",
       "      <th>4</th>\n",
       "      <td>0</td>\n",
       "      <td>1</td>\n",
       "      <td>-13</td>\n",
       "      <td>-31</td>\n",
       "      <td>1</td>\n",
       "      <td>0</td>\n",
       "      <td>0</td>\n",
       "      <td>1</td>\n",
       "    </tr>\n",
       "    <tr>\n",
       "      <th>...</th>\n",
       "      <td>...</td>\n",
       "      <td>...</td>\n",
       "      <td>...</td>\n",
       "      <td>...</td>\n",
       "      <td>...</td>\n",
       "      <td>...</td>\n",
       "      <td>...</td>\n",
       "      <td>...</td>\n",
       "    </tr>\n",
       "    <tr>\n",
       "      <th>23002</th>\n",
       "      <td>1</td>\n",
       "      <td>11</td>\n",
       "      <td>6</td>\n",
       "      <td>77</td>\n",
       "      <td>1</td>\n",
       "      <td>0</td>\n",
       "      <td>0</td>\n",
       "      <td>0</td>\n",
       "    </tr>\n",
       "    <tr>\n",
       "      <th>23003</th>\n",
       "      <td>1</td>\n",
       "      <td>11</td>\n",
       "      <td>8</td>\n",
       "      <td>2</td>\n",
       "      <td>1</td>\n",
       "      <td>0</td>\n",
       "      <td>0</td>\n",
       "      <td>0</td>\n",
       "    </tr>\n",
       "    <tr>\n",
       "      <th>23004</th>\n",
       "      <td>1</td>\n",
       "      <td>11</td>\n",
       "      <td>9</td>\n",
       "      <td>-24</td>\n",
       "      <td>1</td>\n",
       "      <td>0</td>\n",
       "      <td>0</td>\n",
       "      <td>0</td>\n",
       "    </tr>\n",
       "    <tr>\n",
       "      <th>23005</th>\n",
       "      <td>1</td>\n",
       "      <td>11</td>\n",
       "      <td>9</td>\n",
       "      <td>106</td>\n",
       "      <td>1</td>\n",
       "      <td>0</td>\n",
       "      <td>0</td>\n",
       "      <td>0</td>\n",
       "    </tr>\n",
       "    <tr>\n",
       "      <th>23006</th>\n",
       "      <td>1</td>\n",
       "      <td>11</td>\n",
       "      <td>19</td>\n",
       "      <td>99</td>\n",
       "      <td>1</td>\n",
       "      <td>0</td>\n",
       "      <td>0</td>\n",
       "      <td>0</td>\n",
       "    </tr>\n",
       "  </tbody>\n",
       "</table>\n",
       "<p>23007 rows × 8 columns</p>\n",
       "</div>"
      ],
      "text/plain": [
       "       outbreak_related  lockdown_type  grocery_and_pharmacy  parks  \\\n",
       "0                     0              1                   -15    -36   \n",
       "1                     0              1                   -15    -36   \n",
       "2                     0              1                   -14    -18   \n",
       "3                     0              1                   -14    -18   \n",
       "4                     0              1                   -13    -31   \n",
       "...                 ...            ...                   ...    ...   \n",
       "23002                 1             11                     6     77   \n",
       "23003                 1             11                     8      2   \n",
       "23004                 1             11                     9    -24   \n",
       "23005                 1             11                     9    106   \n",
       "23006                 1             11                    19     99   \n",
       "\n",
       "       total_resolved  total_unresolved  total_fatal  label  \n",
       "0                   1                 0            0      1  \n",
       "1                   2                 0            0      1  \n",
       "2                   1                 0            0      1  \n",
       "3                   2                 0            0      1  \n",
       "4                   1                 0            0      1  \n",
       "...               ...               ...          ...    ...  \n",
       "23002               1                 0            0      0  \n",
       "23003               1                 0            0      0  \n",
       "23004               1                 0            0      0  \n",
       "23005               1                 0            0      0  \n",
       "23006               1                 0            0      0  \n",
       "\n",
       "[23007 rows x 8 columns]"
      ]
     },
     "execution_count": 15,
     "metadata": {},
     "output_type": "execute_result"
    }
   ],
   "source": [
    "df.head()"
   ]
  },
  {
   "cell_type": "markdown",
   "metadata": {},
   "source": [
    "#### split it to train and test"
   ]
  },
  {
   "cell_type": "code",
   "execution_count": 16,
   "metadata": {},
   "outputs": [],
   "source": [
    "X_train, X_test, y_train, y_test = train_test_split(df, label['label'], test_size=0.2)"
   ]
  },
  {
   "cell_type": "markdown",
   "metadata": {},
   "source": [
    "### Random Forest "
   ]
  },
  {
   "cell_type": "code",
   "execution_count": 17,
   "metadata": {},
   "outputs": [],
   "source": [
    "start = time.time()"
   ]
  },
  {
   "cell_type": "code",
   "execution_count": 18,
   "metadata": {},
   "outputs": [],
   "source": [
    "rf = RandomForestClassifier(n_estimators=50, max_depth=20, n_jobs=-1)\n",
    "rf_model = rf.fit(X_train, y_train)\n",
    "y_pred = rf_model.predict(X_test)"
   ]
  },
  {
   "cell_type": "code",
   "execution_count": 19,
   "metadata": {},
   "outputs": [],
   "source": [
    "stop = time.time()"
   ]
  },
  {
   "cell_type": "code",
   "execution_count": 20,
   "metadata": {},
   "outputs": [],
   "source": [
    "precision, recall, fscore, support = score(y_test, y_pred, average='micro')"
   ]
  },
  {
   "cell_type": "code",
   "execution_count": 21,
   "metadata": {},
   "outputs": [
    {
     "name": "stdout",
     "output_type": "stream",
     "text": [
      "[[622   0   0   0   0   0   0   0   0]\n",
      " [  0 716   0   0   0   0   0   0   0]\n",
      " [  0   0 550   0   1   2   0   0   0]\n",
      " [  0   0   0 572   3   2   0   0   0]\n",
      " [  0   0   0   0 571   6   0   0   0]\n",
      " [  0   0   0   0   1 510   2   1   0]\n",
      " [  0   0   0   0   1   7 365   3   0]\n",
      " [  0   0   0   0   0   0  12 383   1]\n",
      " [  0   0   0   0   0   0   0  29 242]]\n",
      "              precision    recall  f1-score   support\n",
      "\n",
      "           0       1.00      1.00      1.00       622\n",
      "           1       1.00      1.00      1.00       716\n",
      "           2       1.00      0.99      1.00       553\n",
      "           3       1.00      0.99      1.00       577\n",
      "           4       0.99      0.99      0.99       577\n",
      "           5       0.97      0.99      0.98       514\n",
      "           6       0.96      0.97      0.97       376\n",
      "           7       0.92      0.97      0.94       396\n",
      "           8       1.00      0.89      0.94       271\n",
      "\n",
      "    accuracy                           0.98      4602\n",
      "   macro avg       0.98      0.98      0.98      4602\n",
      "weighted avg       0.99      0.98      0.98      4602\n",
      "\n",
      "Metric for Random Forest Model: Precision: 0.985 | Recall: 0.985 | Accuracy: 0.985\n",
      "Training time: 0.17415761947631836s\n"
     ]
    }
   ],
   "source": [
    "print(confusion_matrix(y_test, y_pred))\n",
    "print(classification_report(y_test, y_pred))\n",
    "\n",
    "print('Metric for Random Forest Model: Precision: {} | Recall: {} | Accuracy: {}'.format(round(precision, 3),\n",
    "                                                        round(recall, 3),\n",
    "                                                        round((y_pred==y_test).sum() / len(y_pred),3)))\n",
    "print(f\"Training time: {stop - start}s\")"
   ]
  },
  {
   "cell_type": "markdown",
   "metadata": {},
   "source": [
    "### Gradient Boosting"
   ]
  },
  {
   "cell_type": "code",
   "execution_count": 22,
   "metadata": {},
   "outputs": [],
   "source": [
    "start = time.time()"
   ]
  },
  {
   "cell_type": "code",
   "execution_count": 23,
   "metadata": {},
   "outputs": [],
   "source": [
    "gbt = GradientBoostingClassifier(n_estimators=50, learning_rate = 0.2, max_depth=20)\n",
    "gbt_model = gbt.fit(X_train, y_train)\n",
    "y_pred = gbt_model.predict(X_test)"
   ]
  },
  {
   "cell_type": "code",
   "execution_count": 24,
   "metadata": {},
   "outputs": [],
   "source": [
    "stop = time.time()"
   ]
  },
  {
   "cell_type": "code",
   "execution_count": 25,
   "metadata": {},
   "outputs": [],
   "source": [
    "precision, recall, fscore, support = score(y_test, y_pred, average='micro')"
   ]
  },
  {
   "cell_type": "code",
   "execution_count": 26,
   "metadata": {},
   "outputs": [
    {
     "name": "stdout",
     "output_type": "stream",
     "text": [
      "[[622   0   0   0   0   0   0   0   0]\n",
      " [  0 716   0   0   0   0   0   0   0]\n",
      " [  0   0 553   0   0   0   0   0   0]\n",
      " [  0   0   0 577   0   0   0   0   0]\n",
      " [  0   0   0   0 577   0   0   0   0]\n",
      " [  0   0   0   0   0 514   0   0   0]\n",
      " [  0   0   0   0   0   0 376   0   0]\n",
      " [  0   0   0   0   0   0   0 396   0]\n",
      " [  0   0   0   0   0   0   0   0 271]]\n",
      "              precision    recall  f1-score   support\n",
      "\n",
      "           0       1.00      1.00      1.00       622\n",
      "           1       1.00      1.00      1.00       716\n",
      "           2       1.00      1.00      1.00       553\n",
      "           3       1.00      1.00      1.00       577\n",
      "           4       1.00      1.00      1.00       577\n",
      "           5       1.00      1.00      1.00       514\n",
      "           6       1.00      1.00      1.00       376\n",
      "           7       1.00      1.00      1.00       396\n",
      "           8       1.00      1.00      1.00       271\n",
      "\n",
      "    accuracy                           1.00      4602\n",
      "   macro avg       1.00      1.00      1.00      4602\n",
      "weighted avg       1.00      1.00      1.00      4602\n",
      "\n",
      "Metric for Gradient Boosting: Precision: 1.0 | Recall: 1.0 | Accuracy: 1.0\n",
      "Training time: 9.926011800765991s\n"
     ]
    }
   ],
   "source": [
    "print(confusion_matrix(y_test, y_pred))\n",
    "print(classification_report(y_test, y_pred))\n",
    "\n",
    "print('Metric for Gradient Boosting: Precision: {} | Recall: {} | Accuracy: {}'.format(round(precision, 3),\n",
    "                                                        round(recall, 3),\n",
    "                                                        round((y_pred==y_test).sum() / len(y_pred),3)))\n",
    "print(f\"Training time: {stop - start}s\")"
   ]
  },
  {
   "cell_type": "markdown",
   "metadata": {},
   "source": [
    "### Decision Tree"
   ]
  },
  {
   "cell_type": "code",
   "execution_count": 27,
   "metadata": {},
   "outputs": [],
   "source": [
    "start = time.time()"
   ]
  },
  {
   "cell_type": "code",
   "execution_count": 28,
   "metadata": {},
   "outputs": [],
   "source": [
    "clf = DecisionTreeClassifier()\n",
    "clf = clf.fit(X_train,y_train)\n",
    "y_pred = clf.predict(X_test)"
   ]
  },
  {
   "cell_type": "code",
   "execution_count": 29,
   "metadata": {},
   "outputs": [],
   "source": [
    "stop = time.time()"
   ]
  },
  {
   "cell_type": "code",
   "execution_count": 30,
   "metadata": {},
   "outputs": [],
   "source": [
    "precision, recall, fscore, support = score(y_test, y_pred, average='micro')"
   ]
  },
  {
   "cell_type": "code",
   "execution_count": 31,
   "metadata": {},
   "outputs": [
    {
     "name": "stdout",
     "output_type": "stream",
     "text": [
      "[[622   0   0   0   0   0   0   0   0]\n",
      " [  0 716   0   0   0   0   0   0   0]\n",
      " [  0   0 553   0   0   0   0   0   0]\n",
      " [  0   0   0 577   0   0   0   0   0]\n",
      " [  0   0   0   0 577   0   0   0   0]\n",
      " [  0   0   0   0   0 514   0   0   0]\n",
      " [  0   0   0   0   0   0 376   0   0]\n",
      " [  0   0   0   0   0   0   0 396   0]\n",
      " [  0   0   0   0   0   0   0   0 271]]\n",
      "              precision    recall  f1-score   support\n",
      "\n",
      "           0       1.00      1.00      1.00       622\n",
      "           1       1.00      1.00      1.00       716\n",
      "           2       1.00      1.00      1.00       553\n",
      "           3       1.00      1.00      1.00       577\n",
      "           4       1.00      1.00      1.00       577\n",
      "           5       1.00      1.00      1.00       514\n",
      "           6       1.00      1.00      1.00       376\n",
      "           7       1.00      1.00      1.00       396\n",
      "           8       1.00      1.00      1.00       271\n",
      "\n",
      "    accuracy                           1.00      4602\n",
      "   macro avg       1.00      1.00      1.00      4602\n",
      "weighted avg       1.00      1.00      1.00      4602\n",
      "\n",
      "Metric for Decision Tree: Precision: 1.0 | Recall: 1.0 | Accuracy: 1.0\n",
      "Training time: 0.047043800354003906s\n"
     ]
    }
   ],
   "source": [
    "print(confusion_matrix(y_test, y_pred))\n",
    "print(classification_report(y_test, y_pred))\n",
    "\n",
    "print('Metric for Decision Tree: Precision: {} | Recall: {} | Accuracy: {}'.format(round(precision, 3),\n",
    "                                                        round(recall, 3),\n",
    "                                                        round((y_pred==y_test).sum() / len(y_pred),3)))\n",
    "\n",
    "print(f\"Training time: {stop - start}s\")"
   ]
  },
  {
   "cell_type": "markdown",
   "metadata": {},
   "source": [
    "## Part C. Detecting Outliers SVC"
   ]
  },
  {
   "cell_type": "markdown",
   "metadata": {},
   "source": [
    "#### DBSCAN"
   ]
  },
  {
   "cell_type": "code",
   "execution_count": 32,
   "metadata": {},
   "outputs": [
    {
     "data": {
      "text/plain": [
       "133"
      ]
     },
     "execution_count": 32,
     "metadata": {},
     "output_type": "execute_result"
    }
   ],
   "source": [
    "outlier_detection = DBSCAN(min_samples = 2, eps = 3)\n",
    "clusters = outlier_detection.fit_predict(df)\n",
    "list(clusters).count(-1)"
   ]
  },
  {
   "cell_type": "markdown",
   "metadata": {},
   "source": [
    "#### SVC"
   ]
  },
  {
   "cell_type": "code",
   "execution_count": 33,
   "metadata": {},
   "outputs": [],
   "source": [
    "df['label'] = label['label']"
   ]
  },
  {
   "cell_type": "code",
   "execution_count": 34,
   "metadata": {},
   "outputs": [],
   "source": [
    "svclassifier = SVC()\n",
    "svclassifer_model = svclassifier.fit(X_train, y_train)\n",
    "y_pred = svclassifer_model.predict(X_test)"
   ]
  },
  {
   "cell_type": "raw",
   "metadata": {},
   "source": [
    "from sklearn.svm import OneClassSVM \n",
    "train, test = train_test_split(df, test_size=.2) \n",
    "train_normal = df[df['label']==0] \n",
    "train_outliers = df[df['label']== 1] "
   ]
  },
  {
   "cell_type": "raw",
   "metadata": {},
   "source": [
    "len(train_outliers) / len(train_normal) "
   ]
  },
  {
   "cell_type": "raw",
   "metadata": {},
   "source": [
    "outlier_prop = len(train_outliers) / len(train_normal) \n",
    "svm = OneClassSVM(kernel='rbf', nu=outlier_prop, gamma=0.000001) \n",
    "svm.fit(train_normal[['outbreak_related','lockdown_type','grocery_and_pharmacy','parks','total_resolved','total_fatal','total_unresolved']])"
   ]
  },
  {
   "cell_type": "raw",
   "metadata": {},
   "source": [
    "x = test['total_resolved'] \n",
    "y = test['outbreak_related'] \n",
    "plt.scatter(x, y, alpha=0.7, c=test['grocery_and_pharmacy']) \n",
    "plt.xlabel('total_resolved') \n",
    "plt.ylabel('outbreak_related')"
   ]
  }
 ],
 "metadata": {
  "kernelspec": {
   "display_name": "Python 3",
   "language": "python",
   "name": "python3"
  },
  "language_info": {
   "codemirror_mode": {
    "name": "ipython",
    "version": 3
   },
   "file_extension": ".py",
   "mimetype": "text/x-python",
   "name": "python",
   "nbconvert_exporter": "python",
   "pygments_lexer": "ipython3",
   "version": "3.8.5"
  },
  "toc": {
   "base_numbering": 1,
   "nav_menu": {},
   "number_sections": true,
   "sideBar": true,
   "skip_h1_title": false,
   "title_cell": "Table of Contents",
   "title_sidebar": "Contents",
   "toc_cell": false,
   "toc_position": {},
   "toc_section_display": true,
   "toc_window_display": false
  }
 },
 "nbformat": 4,
 "nbformat_minor": 5
}
